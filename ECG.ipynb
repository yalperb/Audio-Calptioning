{
  "nbformat": 4,
  "nbformat_minor": 0,
  "metadata": {
    "colab": {
      "name": "ECG.ipynb",
      "provenance": [],
      "collapsed_sections": [],
      "mount_file_id": "1adDtbrvrmkXSzRQUtqtN622k1IPOB_jh",
      "authorship_tag": "ABX9TyOjLfUHVQHHJ1HPVTUmy//e",
      "include_colab_link": true
    },
    "kernelspec": {
      "name": "python3",
      "display_name": "Python 3"
    },
    "language_info": {
      "name": "python"
    },
    "gpuClass": "standard"
  },
  "cells": [
    {
      "cell_type": "markdown",
      "metadata": {
        "id": "view-in-github",
        "colab_type": "text"
      },
      "source": [
        "<a href=\"https://colab.research.google.com/github/yalperb/Audio-Calptioning/blob/main/ECG.ipynb\" target=\"_parent\"><img src=\"https://colab.research.google.com/assets/colab-badge.svg\" alt=\"Open In Colab\"/></a>"
      ]
    },
    {
      "cell_type": "code",
      "source": [
        "! pip install kaggle"
      ],
      "metadata": {
        "id": "pfptrVua7Ly-"
      },
      "execution_count": null,
      "outputs": []
    },
    {
      "cell_type": "code",
      "source": [
        "! mkdir ~/.kaggle"
      ],
      "metadata": {
        "id": "gyIZbqit7LwQ"
      },
      "execution_count": null,
      "outputs": []
    },
    {
      "cell_type": "code",
      "source": [
        "! cp kaggle.json ~/.kaggle/"
      ],
      "metadata": {
        "id": "T8crUlfA7Ltr"
      },
      "execution_count": null,
      "outputs": []
    },
    {
      "cell_type": "code",
      "source": [
        "! chmod 600 ~/.kaggle/kaggle.json"
      ],
      "metadata": {
        "id": "PohQl15g7Lne"
      },
      "execution_count": null,
      "outputs": []
    },
    {
      "cell_type": "code",
      "execution_count": null,
      "metadata": {
        "id": "HjuC_hzD55R-"
      },
      "outputs": [],
      "source": [
        "! kaggle datasets download -d taejoongyoon/mitbit-arrhythmia-database"
      ]
    },
    {
      "cell_type": "code",
      "source": [
        "! unzip mitbit-arrhythmia-database"
      ],
      "metadata": {
        "id": "IwzqolBn61dV"
      },
      "execution_count": null,
      "outputs": []
    },
    {
      "cell_type": "code",
      "source": [
        "import os\n",
        "import numpy as np\n",
        "import pandas as pd\n",
        "import matplotlib.pyplot as plt"
      ],
      "metadata": {
        "id": "bqfhJ5oE7d71"
      },
      "execution_count": null,
      "outputs": []
    },
    {
      "cell_type": "code",
      "source": [
        "beats= []\n",
        "types= []"
      ],
      "metadata": {
        "id": "JRkihQhf8QQF"
      },
      "execution_count": null,
      "outputs": []
    },
    {
      "cell_type": "code",
      "source": [
        "for filename in os.listdir(\"mitbih_database/mitbih_database\"):\n",
        "\tif filename.split(\".\")[1] == \"csv\":\n",
        "\t\tecg = pd.read_csv(\"mitbih_database/mitbih_database/\"+filename)\n",
        "\t\tfile = open(\"mitbih_database/mitbih_database/\"+filename.split(\".\")[0]+\"annotations.txt\", \"r\")\n",
        "\t\tfor line in file.readlines()[1:]:\n",
        "\t\t\tindex = int(line[12:21])\n",
        "\t\t\tif index < 200:\n",
        "\t\t\t\tbeat = np.array(ecg[ecg.columns[1:]][0:index+200], dtype=int)\n",
        "\t\t\telif index > len(ecg)-201:\n",
        "\t\t\t\tbeat = np.array(ecg[ecg.columns[1:]][index-200:], dtype=int)\n",
        "\t\t\telse:\n",
        "\t\t\t\tbeat = np.array(ecg[ecg.columns[1:]][index-200:index+200], dtype=int)\n",
        "\t\t\tbeats.append(np.resize(beat, (100, 2)))\n",
        "\t\t\ttypes.append(line[26])\n",
        "\t\tfile.close()"
      ],
      "metadata": {
        "id": "ddEm7bh58aNM"
      },
      "execution_count": null,
      "outputs": []
    },
    {
      "cell_type": "code",
      "source": [
        "beats = np.array(beats)\n",
        "types = np.array(types)\n",
        "print(types.shape)\n",
        "print(beats.shape)"
      ],
      "metadata": {
        "colab": {
          "base_uri": "https://localhost:8080/"
        },
        "id": "NcydmlaW8dCl",
        "outputId": "db28f1cc-4b55-40b5-cbff-0efd0a3f5fa4"
      },
      "execution_count": null,
      "outputs": [
        {
          "output_type": "stream",
          "name": "stdout",
          "text": [
            "(112647,)\n",
            "(112647, 100, 2)\n"
          ]
        }
      ]
    },
    {
      "cell_type": "code",
      "source": [
        "beats_filtered = []\n",
        "types_filtered = []"
      ],
      "metadata": {
        "id": "LJH6TOYtBDW2"
      },
      "execution_count": null,
      "outputs": []
    },
    {
      "cell_type": "code",
      "source": [
        "for j in [\"N\", \"L\", \"R\", \"A\", \"V\"]:\n",
        "  k = 0\n",
        "  for i in range(len(beats)):\n",
        "    if types[i] == j :\n",
        "      beats_filtered.append(beats[i])\n",
        "      types_filtered.append(types[i])\n",
        "      k += 1\n",
        "      if k == 2500:\n",
        "        break"
      ],
      "metadata": {
        "id": "CQgkYAvYBJDA"
      },
      "execution_count": null,
      "outputs": []
    },
    {
      "cell_type": "code",
      "source": [
        "np.array(beats_filtered).shape"
      ],
      "metadata": {
        "colab": {
          "base_uri": "https://localhost:8080/"
        },
        "id": "3T7KiMr5DXQl",
        "outputId": "2f1e36f1-2e20-4d64-8ed6-552a44e3559f"
      },
      "execution_count": null,
      "outputs": [
        {
          "output_type": "execute_result",
          "data": {
            "text/plain": [
              "(12500, 100, 2)"
            ]
          },
          "metadata": {},
          "execution_count": 13
        }
      ]
    },
    {
      "cell_type": "code",
      "source": [
        "X = np.array(beats_filtered)\n",
        "y = np.array(types_filtered)"
      ],
      "metadata": {
        "id": "tVJTiTQ4UBPk"
      },
      "execution_count": null,
      "outputs": []
    },
    {
      "cell_type": "code",
      "source": [
        "X.shape"
      ],
      "metadata": {
        "colab": {
          "base_uri": "https://localhost:8080/"
        },
        "id": "ob8RLeZjBk1g",
        "outputId": "642c1d1b-d343-427e-f5ac-0d9d6db18e96"
      },
      "execution_count": null,
      "outputs": [
        {
          "output_type": "execute_result",
          "data": {
            "text/plain": [
              "(12500, 100, 2)"
            ]
          },
          "metadata": {},
          "execution_count": 15
        }
      ]
    },
    {
      "cell_type": "code",
      "source": [
        "from sklearn import preprocessing"
      ],
      "metadata": {
        "id": "wBusmxqRV-WG"
      },
      "execution_count": null,
      "outputs": []
    },
    {
      "cell_type": "code",
      "source": [
        "label_encoder = preprocessing.LabelEncoder()\n",
        "y = label_encoder.fit_transform(y)"
      ],
      "metadata": {
        "id": "PXYXk3jeV944"
      },
      "execution_count": null,
      "outputs": []
    },
    {
      "cell_type": "code",
      "source": [
        "from sklearn.model_selection import train_test_split"
      ],
      "metadata": {
        "id": "fqPv-SRTUYnj"
      },
      "execution_count": null,
      "outputs": []
    },
    {
      "cell_type": "code",
      "source": [
        "X_train, X_val_test, y_train, y_val_test = train_test_split(X, y, test_size=0.33, random_state=24)\n",
        "print(X_train.shape, X_val_test.shape, y_train.shape, y_val_test.shape)\n",
        "X_val, X_test, y_val, y_test = train_test_split(X_val_test, y_val_test, test_size=0.50, random_state=24)\n",
        "print(X_val.shape, X_test.shape, y_val.shape, y_test.shape)"
      ],
      "metadata": {
        "colab": {
          "base_uri": "https://localhost:8080/"
        },
        "id": "S04_OZluTmF9",
        "outputId": "13b45906-b69d-4b06-a1db-90ce2ffd84e5"
      },
      "execution_count": null,
      "outputs": [
        {
          "output_type": "stream",
          "name": "stdout",
          "text": [
            "(8375, 100, 2) (4125, 100, 2) (8375,) (4125,)\n",
            "(2062, 100, 2) (2063, 100, 2) (2062,) (2063,)\n"
          ]
        }
      ]
    },
    {
      "cell_type": "code",
      "source": [
        "import tensorflow as tf\n",
        "from tensorflow.keras import layers, models"
      ],
      "metadata": {
        "id": "Vcfo9IrcUtoc"
      },
      "execution_count": null,
      "outputs": []
    },
    {
      "cell_type": "code",
      "source": [
        "model = models.Sequential()\n",
        "model.add(layers.Conv1D(64, (3), activation='relu', input_shape=(100, 2)))\n",
        "model.add(layers.MaxPooling1D((3)))\n",
        "model.add(layers.Conv1D(64, (5), activation='relu'))\n",
        "model.add(layers.MaxPooling1D((3)))\n",
        "model.add(layers.Conv1D(128, (5), activation='relu'))\n",
        "model.add(layers.Flatten())\n",
        "model.add(layers.Dropout(0.2))\n",
        "model.add(layers.Dense(128, activation='relu'))\n",
        "model.add(layers.Dense(64, activation='relu'))\n",
        "model.add(layers.Dense(5))\n",
        "model.compile(optimizer=tf.keras.optimizers.Adam(learning_rate=0.001),\n",
        "              loss=tf.keras.losses.SparseCategoricalCrossentropy(from_logits=True),\n",
        "              metrics=['accuracy'])"
      ],
      "metadata": {
        "id": "hgS9k9yyUhey"
      },
      "execution_count": null,
      "outputs": []
    },
    {
      "cell_type": "code",
      "source": [
        "history = model.fit(X_train, y_train, batch_size=64, epochs=100, validation_data=(X_val, y_val))"
      ],
      "metadata": {
        "colab": {
          "base_uri": "https://localhost:8080/"
        },
        "id": "WKKiljtDVXTR",
        "outputId": "4c7bc5f2-7c3e-4c58-819d-12d4f2825a54"
      },
      "execution_count": null,
      "outputs": [
        {
          "output_type": "stream",
          "name": "stdout",
          "text": [
            "Epoch 1/100\n",
            "131/131 [==============================] - 6s 34ms/step - loss: 3.7900 - accuracy: 0.4765 - val_loss: 0.8676 - val_accuracy: 0.6610\n",
            "Epoch 2/100\n",
            "131/131 [==============================] - 4s 31ms/step - loss: 0.8764 - accuracy: 0.6558 - val_loss: 0.7044 - val_accuracy: 0.7260\n",
            "Epoch 3/100\n",
            "131/131 [==============================] - 3s 24ms/step - loss: 0.7700 - accuracy: 0.6939 - val_loss: 0.7298 - val_accuracy: 0.7313\n",
            "Epoch 4/100\n",
            "131/131 [==============================] - 3s 24ms/step - loss: 0.6980 - accuracy: 0.7235 - val_loss: 0.6333 - val_accuracy: 0.7386\n",
            "Epoch 5/100\n",
            "131/131 [==============================] - 3s 24ms/step - loss: 0.6453 - accuracy: 0.7339 - val_loss: 0.7642 - val_accuracy: 0.7163\n",
            "Epoch 6/100\n",
            "131/131 [==============================] - 3s 24ms/step - loss: 0.6110 - accuracy: 0.7531 - val_loss: 0.6004 - val_accuracy: 0.7793\n",
            "Epoch 7/100\n",
            "131/131 [==============================] - 3s 24ms/step - loss: 0.5647 - accuracy: 0.7693 - val_loss: 0.5666 - val_accuracy: 0.7861\n",
            "Epoch 8/100\n",
            "131/131 [==============================] - 3s 24ms/step - loss: 0.5666 - accuracy: 0.7694 - val_loss: 0.5582 - val_accuracy: 0.7667\n",
            "Epoch 9/100\n",
            "131/131 [==============================] - 3s 24ms/step - loss: 0.5475 - accuracy: 0.7786 - val_loss: 0.5415 - val_accuracy: 0.7774\n",
            "Epoch 10/100\n",
            "131/131 [==============================] - 3s 24ms/step - loss: 0.5252 - accuracy: 0.7876 - val_loss: 0.5551 - val_accuracy: 0.7798\n",
            "Epoch 11/100\n",
            "131/131 [==============================] - 3s 24ms/step - loss: 0.4993 - accuracy: 0.8031 - val_loss: 0.5182 - val_accuracy: 0.7987\n",
            "Epoch 12/100\n",
            "131/131 [==============================] - 3s 24ms/step - loss: 0.5124 - accuracy: 0.7865 - val_loss: 0.5239 - val_accuracy: 0.8123\n",
            "Epoch 13/100\n",
            "131/131 [==============================] - 3s 24ms/step - loss: 0.4964 - accuracy: 0.8013 - val_loss: 0.5327 - val_accuracy: 0.7905\n",
            "Epoch 14/100\n",
            "131/131 [==============================] - 3s 24ms/step - loss: 0.4855 - accuracy: 0.8030 - val_loss: 0.4989 - val_accuracy: 0.8327\n",
            "Epoch 15/100\n",
            "131/131 [==============================] - 3s 25ms/step - loss: 0.4748 - accuracy: 0.8116 - val_loss: 0.5679 - val_accuracy: 0.7716\n",
            "Epoch 16/100\n",
            "131/131 [==============================] - 3s 24ms/step - loss: 0.4767 - accuracy: 0.8088 - val_loss: 0.5089 - val_accuracy: 0.8162\n",
            "Epoch 17/100\n",
            "131/131 [==============================] - 3s 24ms/step - loss: 0.4794 - accuracy: 0.8090 - val_loss: 0.4983 - val_accuracy: 0.8157\n",
            "Epoch 18/100\n",
            "131/131 [==============================] - 3s 24ms/step - loss: 0.4519 - accuracy: 0.8164 - val_loss: 0.5016 - val_accuracy: 0.7886\n",
            "Epoch 19/100\n",
            "131/131 [==============================] - 3s 24ms/step - loss: 0.4566 - accuracy: 0.8178 - val_loss: 0.4979 - val_accuracy: 0.7861\n",
            "Epoch 20/100\n",
            "131/131 [==============================] - 3s 24ms/step - loss: 0.4484 - accuracy: 0.8207 - val_loss: 0.5038 - val_accuracy: 0.8026\n",
            "Epoch 21/100\n",
            "131/131 [==============================] - 3s 24ms/step - loss: 0.4487 - accuracy: 0.8207 - val_loss: 0.5027 - val_accuracy: 0.8055\n",
            "Epoch 22/100\n",
            "131/131 [==============================] - 3s 24ms/step - loss: 0.4642 - accuracy: 0.8084 - val_loss: 0.4986 - val_accuracy: 0.8458\n",
            "Epoch 23/100\n",
            "131/131 [==============================] - 3s 24ms/step - loss: 0.4220 - accuracy: 0.8344 - val_loss: 0.5423 - val_accuracy: 0.8215\n",
            "Epoch 24/100\n",
            "131/131 [==============================] - 3s 24ms/step - loss: 0.4187 - accuracy: 0.8276 - val_loss: 0.4782 - val_accuracy: 0.8264\n",
            "Epoch 25/100\n",
            "131/131 [==============================] - 3s 24ms/step - loss: 0.4268 - accuracy: 0.8277 - val_loss: 0.4878 - val_accuracy: 0.8288\n",
            "Epoch 26/100\n",
            "131/131 [==============================] - 3s 24ms/step - loss: 0.4200 - accuracy: 0.8333 - val_loss: 0.4988 - val_accuracy: 0.8133\n",
            "Epoch 27/100\n",
            "131/131 [==============================] - 3s 24ms/step - loss: 0.4084 - accuracy: 0.8374 - val_loss: 0.4909 - val_accuracy: 0.8070\n",
            "Epoch 28/100\n",
            "131/131 [==============================] - 3s 24ms/step - loss: 0.4123 - accuracy: 0.8408 - val_loss: 0.5022 - val_accuracy: 0.8235\n",
            "Epoch 29/100\n",
            "131/131 [==============================] - 3s 25ms/step - loss: 0.4293 - accuracy: 0.8291 - val_loss: 0.4715 - val_accuracy: 0.8385\n",
            "Epoch 30/100\n",
            "131/131 [==============================] - 3s 24ms/step - loss: 0.4052 - accuracy: 0.8404 - val_loss: 0.4535 - val_accuracy: 0.8453\n",
            "Epoch 31/100\n",
            "131/131 [==============================] - 3s 24ms/step - loss: 0.3997 - accuracy: 0.8421 - val_loss: 0.4809 - val_accuracy: 0.8429\n",
            "Epoch 32/100\n",
            "131/131 [==============================] - 3s 24ms/step - loss: 0.4017 - accuracy: 0.8370 - val_loss: 0.5325 - val_accuracy: 0.7895\n",
            "Epoch 33/100\n",
            "131/131 [==============================] - 3s 24ms/step - loss: 0.3941 - accuracy: 0.8406 - val_loss: 0.4781 - val_accuracy: 0.8429\n",
            "Epoch 34/100\n",
            "131/131 [==============================] - 3s 24ms/step - loss: 0.4342 - accuracy: 0.8302 - val_loss: 0.4865 - val_accuracy: 0.7997\n",
            "Epoch 35/100\n",
            "131/131 [==============================] - 3s 24ms/step - loss: 0.4038 - accuracy: 0.8340 - val_loss: 0.4785 - val_accuracy: 0.8361\n",
            "Epoch 36/100\n",
            "131/131 [==============================] - 3s 23ms/step - loss: 0.3987 - accuracy: 0.8356 - val_loss: 0.4878 - val_accuracy: 0.8278\n",
            "Epoch 37/100\n",
            "131/131 [==============================] - 3s 24ms/step - loss: 0.3882 - accuracy: 0.8460 - val_loss: 0.4649 - val_accuracy: 0.8594\n",
            "Epoch 38/100\n",
            "131/131 [==============================] - 3s 24ms/step - loss: 0.3743 - accuracy: 0.8516 - val_loss: 0.4811 - val_accuracy: 0.8278\n",
            "Epoch 39/100\n",
            "131/131 [==============================] - 3s 24ms/step - loss: 0.3747 - accuracy: 0.8499 - val_loss: 0.4542 - val_accuracy: 0.8453\n",
            "Epoch 40/100\n",
            "131/131 [==============================] - 3s 25ms/step - loss: 0.3784 - accuracy: 0.8496 - val_loss: 0.4343 - val_accuracy: 0.8754\n",
            "Epoch 41/100\n",
            "131/131 [==============================] - 3s 24ms/step - loss: 0.3772 - accuracy: 0.8533 - val_loss: 0.4618 - val_accuracy: 0.8438\n",
            "Epoch 42/100\n",
            "131/131 [==============================] - 3s 24ms/step - loss: 0.3669 - accuracy: 0.8539 - val_loss: 0.4550 - val_accuracy: 0.8322\n",
            "Epoch 43/100\n",
            "131/131 [==============================] - 3s 24ms/step - loss: 0.3690 - accuracy: 0.8564 - val_loss: 0.4638 - val_accuracy: 0.8254\n",
            "Epoch 44/100\n",
            "131/131 [==============================] - 3s 24ms/step - loss: 0.3542 - accuracy: 0.8635 - val_loss: 0.4811 - val_accuracy: 0.8269\n",
            "Epoch 45/100\n",
            "131/131 [==============================] - 3s 24ms/step - loss: 0.3594 - accuracy: 0.8583 - val_loss: 0.4510 - val_accuracy: 0.8618\n",
            "Epoch 46/100\n",
            "131/131 [==============================] - 3s 24ms/step - loss: 0.3479 - accuracy: 0.8619 - val_loss: 0.4390 - val_accuracy: 0.8390\n",
            "Epoch 47/100\n",
            "131/131 [==============================] - 3s 24ms/step - loss: 0.3543 - accuracy: 0.8604 - val_loss: 0.4531 - val_accuracy: 0.8647\n",
            "Epoch 48/100\n",
            "131/131 [==============================] - 3s 24ms/step - loss: 0.3659 - accuracy: 0.8530 - val_loss: 0.4381 - val_accuracy: 0.8628\n",
            "Epoch 49/100\n",
            "131/131 [==============================] - 3s 23ms/step - loss: 0.3403 - accuracy: 0.8641 - val_loss: 0.4343 - val_accuracy: 0.8686\n",
            "Epoch 50/100\n",
            "131/131 [==============================] - 3s 24ms/step - loss: 0.3282 - accuracy: 0.8679 - val_loss: 0.4612 - val_accuracy: 0.8666\n",
            "Epoch 51/100\n",
            "131/131 [==============================] - 3s 23ms/step - loss: 0.3511 - accuracy: 0.8638 - val_loss: 0.5029 - val_accuracy: 0.8259\n",
            "Epoch 52/100\n",
            "131/131 [==============================] - 3s 24ms/step - loss: 0.3773 - accuracy: 0.8559 - val_loss: 0.4478 - val_accuracy: 0.8458\n",
            "Epoch 53/100\n",
            "131/131 [==============================] - 3s 24ms/step - loss: 0.3517 - accuracy: 0.8654 - val_loss: 0.5132 - val_accuracy: 0.8055\n",
            "Epoch 54/100\n",
            "131/131 [==============================] - 3s 24ms/step - loss: 0.3542 - accuracy: 0.8605 - val_loss: 0.4486 - val_accuracy: 0.8322\n",
            "Epoch 55/100\n",
            "131/131 [==============================] - 3s 24ms/step - loss: 0.3208 - accuracy: 0.8751 - val_loss: 0.4207 - val_accuracy: 0.8705\n",
            "Epoch 56/100\n",
            "131/131 [==============================] - 3s 24ms/step - loss: 0.3229 - accuracy: 0.8752 - val_loss: 0.4123 - val_accuracy: 0.8725\n",
            "Epoch 57/100\n",
            "131/131 [==============================] - 3s 24ms/step - loss: 0.3231 - accuracy: 0.8743 - val_loss: 0.4468 - val_accuracy: 0.8516\n",
            "Epoch 58/100\n",
            "131/131 [==============================] - 3s 25ms/step - loss: 0.3198 - accuracy: 0.8733 - val_loss: 0.4487 - val_accuracy: 0.8337\n",
            "Epoch 59/100\n",
            "131/131 [==============================] - 3s 24ms/step - loss: 0.3174 - accuracy: 0.8775 - val_loss: 0.4143 - val_accuracy: 0.8899\n",
            "Epoch 60/100\n",
            "131/131 [==============================] - 3s 24ms/step - loss: 0.3071 - accuracy: 0.8810 - val_loss: 0.4083 - val_accuracy: 0.8807\n",
            "Epoch 61/100\n",
            "131/131 [==============================] - 3s 24ms/step - loss: 0.3267 - accuracy: 0.8716 - val_loss: 0.4584 - val_accuracy: 0.8380\n",
            "Epoch 62/100\n",
            "131/131 [==============================] - 3s 24ms/step - loss: 0.3062 - accuracy: 0.8849 - val_loss: 0.4224 - val_accuracy: 0.8579\n",
            "Epoch 63/100\n",
            "131/131 [==============================] - 3s 24ms/step - loss: 0.2920 - accuracy: 0.8892 - val_loss: 0.4314 - val_accuracy: 0.8763\n",
            "Epoch 64/100\n",
            "131/131 [==============================] - 3s 25ms/step - loss: 0.2960 - accuracy: 0.8890 - val_loss: 0.4014 - val_accuracy: 0.8720\n",
            "Epoch 65/100\n",
            "131/131 [==============================] - 3s 24ms/step - loss: 0.2917 - accuracy: 0.8879 - val_loss: 0.4924 - val_accuracy: 0.8210\n",
            "Epoch 66/100\n",
            "131/131 [==============================] - 3s 24ms/step - loss: 0.2824 - accuracy: 0.8927 - val_loss: 0.4165 - val_accuracy: 0.8569\n",
            "Epoch 67/100\n",
            "131/131 [==============================] - 3s 24ms/step - loss: 0.2833 - accuracy: 0.8952 - val_loss: 0.4212 - val_accuracy: 0.8899\n",
            "Epoch 68/100\n",
            "131/131 [==============================] - 3s 24ms/step - loss: 0.2845 - accuracy: 0.8929 - val_loss: 0.4870 - val_accuracy: 0.8220\n",
            "Epoch 69/100\n",
            "131/131 [==============================] - 3s 23ms/step - loss: 0.3084 - accuracy: 0.8768 - val_loss: 0.4021 - val_accuracy: 0.8754\n",
            "Epoch 70/100\n",
            "131/131 [==============================] - 3s 24ms/step - loss: 0.2895 - accuracy: 0.8906 - val_loss: 0.4549 - val_accuracy: 0.8380\n",
            "Epoch 71/100\n",
            "131/131 [==============================] - 3s 24ms/step - loss: 0.2771 - accuracy: 0.8970 - val_loss: 0.4587 - val_accuracy: 0.8274\n",
            "Epoch 72/100\n",
            "131/131 [==============================] - 3s 24ms/step - loss: 0.2664 - accuracy: 0.9010 - val_loss: 0.4378 - val_accuracy: 0.8516\n",
            "Epoch 73/100\n",
            "131/131 [==============================] - 3s 24ms/step - loss: 0.2621 - accuracy: 0.9004 - val_loss: 0.5249 - val_accuracy: 0.8327\n",
            "Epoch 74/100\n",
            "131/131 [==============================] - 3s 23ms/step - loss: 0.2750 - accuracy: 0.8933 - val_loss: 0.4455 - val_accuracy: 0.8380\n",
            "Epoch 75/100\n",
            "131/131 [==============================] - 5s 39ms/step - loss: 0.2646 - accuracy: 0.9021 - val_loss: 0.3950 - val_accuracy: 0.8647\n",
            "Epoch 76/100\n",
            "131/131 [==============================] - 3s 23ms/step - loss: 0.2677 - accuracy: 0.8997 - val_loss: 0.3690 - val_accuracy: 0.9016\n",
            "Epoch 77/100\n",
            "131/131 [==============================] - 3s 24ms/step - loss: 0.2452 - accuracy: 0.9136 - val_loss: 0.3997 - val_accuracy: 0.8754\n",
            "Epoch 78/100\n",
            "131/131 [==============================] - 3s 24ms/step - loss: 0.2448 - accuracy: 0.9097 - val_loss: 0.3824 - val_accuracy: 0.9001\n",
            "Epoch 79/100\n",
            "131/131 [==============================] - 3s 25ms/step - loss: 0.2514 - accuracy: 0.9114 - val_loss: 0.3691 - val_accuracy: 0.9001\n",
            "Epoch 80/100\n",
            "131/131 [==============================] - 3s 24ms/step - loss: 0.2361 - accuracy: 0.9119 - val_loss: 0.3776 - val_accuracy: 0.9049\n",
            "Epoch 81/100\n",
            "131/131 [==============================] - 3s 24ms/step - loss: 0.2466 - accuracy: 0.9100 - val_loss: 0.4284 - val_accuracy: 0.8792\n",
            "Epoch 82/100\n",
            "131/131 [==============================] - 3s 25ms/step - loss: 0.2411 - accuracy: 0.9103 - val_loss: 0.3961 - val_accuracy: 0.8870\n",
            "Epoch 83/100\n",
            "131/131 [==============================] - 3s 24ms/step - loss: 0.2460 - accuracy: 0.9076 - val_loss: 0.3959 - val_accuracy: 0.8773\n",
            "Epoch 84/100\n",
            "131/131 [==============================] - 3s 24ms/step - loss: 0.2248 - accuracy: 0.9170 - val_loss: 0.3585 - val_accuracy: 0.9025\n",
            "Epoch 85/100\n",
            "131/131 [==============================] - 3s 24ms/step - loss: 0.2403 - accuracy: 0.9096 - val_loss: 0.3442 - val_accuracy: 0.9127\n",
            "Epoch 86/100\n",
            "131/131 [==============================] - 3s 24ms/step - loss: 0.2083 - accuracy: 0.9244 - val_loss: 0.3574 - val_accuracy: 0.9040\n",
            "Epoch 87/100\n",
            "131/131 [==============================] - 3s 23ms/step - loss: 0.2066 - accuracy: 0.9236 - val_loss: 0.4640 - val_accuracy: 0.8579\n",
            "Epoch 88/100\n",
            "131/131 [==============================] - 3s 24ms/step - loss: 0.2189 - accuracy: 0.9206 - val_loss: 0.3502 - val_accuracy: 0.9064\n",
            "Epoch 89/100\n",
            "131/131 [==============================] - 3s 24ms/step - loss: 0.2082 - accuracy: 0.9236 - val_loss: 0.3519 - val_accuracy: 0.9088\n",
            "Epoch 90/100\n",
            "131/131 [==============================] - 3s 25ms/step - loss: 0.2202 - accuracy: 0.9217 - val_loss: 0.3809 - val_accuracy: 0.9035\n",
            "Epoch 91/100\n",
            "131/131 [==============================] - 3s 24ms/step - loss: 0.2154 - accuracy: 0.9213 - val_loss: 0.3675 - val_accuracy: 0.9059\n",
            "Epoch 92/100\n",
            "131/131 [==============================] - 3s 24ms/step - loss: 0.2068 - accuracy: 0.9250 - val_loss: 0.4342 - val_accuracy: 0.8632\n",
            "Epoch 93/100\n",
            "131/131 [==============================] - 3s 23ms/step - loss: 0.2288 - accuracy: 0.9157 - val_loss: 0.3653 - val_accuracy: 0.9025\n",
            "Epoch 94/100\n",
            "131/131 [==============================] - 3s 24ms/step - loss: 0.2116 - accuracy: 0.9229 - val_loss: 0.3376 - val_accuracy: 0.9117\n",
            "Epoch 95/100\n",
            "131/131 [==============================] - 3s 24ms/step - loss: 0.2126 - accuracy: 0.9218 - val_loss: 0.3532 - val_accuracy: 0.9059\n",
            "Epoch 96/100\n",
            "131/131 [==============================] - 3s 23ms/step - loss: 0.1998 - accuracy: 0.9284 - val_loss: 0.3695 - val_accuracy: 0.8991\n",
            "Epoch 97/100\n",
            "131/131 [==============================] - 3s 23ms/step - loss: 0.1999 - accuracy: 0.9279 - val_loss: 0.3569 - val_accuracy: 0.9151\n",
            "Epoch 98/100\n",
            "131/131 [==============================] - 3s 24ms/step - loss: 0.1911 - accuracy: 0.9299 - val_loss: 0.4702 - val_accuracy: 0.8458\n",
            "Epoch 99/100\n",
            "131/131 [==============================] - 3s 24ms/step - loss: 0.2398 - accuracy: 0.9084 - val_loss: 0.3636 - val_accuracy: 0.9103\n",
            "Epoch 100/100\n",
            "131/131 [==============================] - 3s 23ms/step - loss: 0.1999 - accuracy: 0.9276 - val_loss: 0.3510 - val_accuracy: 0.9059\n"
          ]
        }
      ]
    },
    {
      "cell_type": "code",
      "source": [
        "test_loss, test_acc = model.evaluate(X_test,  y_test, verbose=0)\n",
        "print(test_acc)"
      ],
      "metadata": {
        "colab": {
          "base_uri": "https://localhost:8080/"
        },
        "id": "mI2G9rF4WMKU",
        "outputId": "ac6bf67c-3a05-4c8d-aef8-7fcffbf74c52"
      },
      "execution_count": null,
      "outputs": [
        {
          "output_type": "stream",
          "name": "stdout",
          "text": [
            "0.9069316387176514\n"
          ]
        }
      ]
    },
    {
      "cell_type": "code",
      "source": [
        ""
      ],
      "metadata": {
        "id": "g8iPKpzXFVak"
      },
      "execution_count": null,
      "outputs": []
    }
  ]
}